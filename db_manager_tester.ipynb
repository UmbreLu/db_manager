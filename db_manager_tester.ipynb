{
 "metadata": {
  "language_info": {
   "codemirror_mode": {
    "name": "ipython",
    "version": 3
   },
   "file_extension": ".py",
   "mimetype": "text/x-python",
   "name": "python",
   "nbconvert_exporter": "python",
   "pygments_lexer": "ipython3",
   "version": "3.8.5"
  },
  "orig_nbformat": 2,
  "kernelspec": {
   "name": "python385jvsc74a57bd0916dbcbb3f70747c44a77c7bcd40155683ae19c65e1c03b4aa3499c5328201f1",
   "display_name": "Python 3.8.5 64-bit"
  },
  "metadata": {
   "interpreter": {
    "hash": "916dbcbb3f70747c44a77c7bcd40155683ae19c65e1c03b4aa3499c5328201f1"
   }
  }
 },
 "nbformat": 4,
 "nbformat_minor": 2,
 "cells": [
  {
   "cell_type": "code",
   "execution_count": 1,
   "metadata": {},
   "outputs": [],
   "source": [
    "import db_helper\n",
    "db = db_helper.Main('test.db')"
   ]
  },
  {
   "cell_type": "code",
   "execution_count": 2,
   "metadata": {},
   "outputs": [
    {
     "output_type": "stream",
     "name": "stdout",
     "text": [
      "Database overview\nusers: rowid, username, hash_and_salt, master_permit.\nrpg_models: rowid, model_name, autor, class, data_model.\n['users', 'rpg_models']\n"
     ]
    }
   ],
   "source": [
    "print(db)\n",
    "print(db.table_list)"
   ]
  },
  {
   "cell_type": "code",
   "execution_count": 9,
   "metadata": {},
   "outputs": [
    {
     "output_type": "execute_result",
     "data": {
      "text/plain": [
       "[Operation(UPDATE rpg_models SET class=? WHERE model_name=?, ('item', 'Clava'), False, True)]"
      ]
     },
     "metadata": {},
     "execution_count": 9
    }
   ],
   "source": [
    "db.queue"
   ]
  },
  {
   "cell_type": "code",
   "execution_count": 6,
   "metadata": {},
   "outputs": [],
   "source": [
    "db.discart()"
   ]
  },
  {
   "cell_type": "code",
   "execution_count": 7,
   "metadata": {},
   "outputs": [
    {
     "output_type": "execute_result",
     "data": {
      "text/plain": [
       "True"
      ]
     },
     "metadata": {},
     "execution_count": 7
    }
   ],
   "source": [
    "db.run()"
   ]
  },
  {
   "cell_type": "code",
   "execution_count": 8,
   "metadata": {},
   "outputs": [
    {
     "output_type": "execute_result",
     "data": {
      "text/plain": [
       "[[(2, 'Dungeons', 'dennis', 'character_profile'),\n",
       "  (7, 'Clava_Dungeons', 'merlow', 'item'),\n",
       "  (8, 'Buzina', 'john', 'generic'),\n",
       "  (9, 'Espada', 'dennis', 'item'),\n",
       "  (10, 'Arbalest', 'dennis', 'item'),\n",
       "  (11, 'axe_dungeons', 'no_autor', 'item'),\n",
       "  (13, 'Dungeons_teste3', 'pericles', 'item')]]"
      ]
     },
     "metadata": {},
     "execution_count": 8
    }
   ],
   "source": [
    "db.results"
   ]
  },
  {
   "cell_type": "code",
   "execution_count": 3,
   "metadata": {},
   "outputs": [
    {
     "output_type": "stream",
     "name": "stdout",
     "text": [
      "table update method call should inform up_column when not presenting column-value dictionary\n"
     ]
    }
   ],
   "source": [
    "print(db.error_log)"
   ]
  },
  {
   "cell_type": "code",
   "execution_count": 8,
   "metadata": {},
   "outputs": [
    {
     "output_type": "stream",
     "name": "stdout",
     "text": [
      "execute UPDATE rpg_models SET 13=? WHERE rowid=? (Dungeons_test3, model_name)\n"
     ]
    }
   ],
   "source": [
    "print(db.op_error)"
   ]
  },
  {
   "cell_type": "code",
   "execution_count": 5,
   "metadata": {},
   "outputs": [
    {
     "output_type": "execute_result",
     "data": {
      "text/plain": [
       "0"
      ]
     },
     "metadata": {},
     "execution_count": 5
    }
   ],
   "source": [
    "db.rpg_models('rowid', 'model_name', 'autor', 'class', order='rowid')"
   ]
  },
  {
   "cell_type": "code",
   "execution_count": 11,
   "metadata": {},
   "outputs": [
    {
     "output_type": "stream",
     "name": "stdout",
     "text": [
      "[(2, 'Dungeons', 'dennis', 'item'), (7, 'Clava_Dungeons', 'merlow', 'item'), (8, 'Buzina', 'john', 'generic'), (9, 'Espada', 'dennis', 'item'), (10, 'Arbalest', 'dennis', 'item'), (11, 'axe_dungeons', 'no_autor', 'item'), (13, 'Dangehons_teste5', 'john', 'character profile')]\n"
     ]
    }
   ],
   "source": [
    "my_first_querie = db.rpg_models('rowid', 'model_name', 'autor', 'class', order='rowid')\n",
    "db.run()\n",
    "print(db.get(my_first_querie))"
   ]
  },
  {
   "cell_type": "code",
   "execution_count": 13,
   "metadata": {},
   "outputs": [
    {
     "output_type": "execute_result",
     "data": {
      "text/plain": [
       "True"
      ]
     },
     "metadata": {},
     "execution_count": 13
    }
   ],
   "source": [
    "db.rpg_models.update('Clava', {'autor': 'johnas', 'class': 'character_profile'}, 'model_name')"
   ]
  },
  {
   "cell_type": "code",
   "execution_count": 22,
   "metadata": {},
   "outputs": [
    {
     "output_type": "execute_result",
     "data": {
      "text/plain": [
       "True"
      ]
     },
     "metadata": {},
     "execution_count": 22
    }
   ],
   "source": [
    "db.rpg_models.update('lenin', 13, 'autor', ref_column='rowid')"
   ]
  },
  {
   "cell_type": "code",
   "execution_count": 8,
   "metadata": {},
   "outputs": [
    {
     "output_type": "execute_result",
     "data": {
      "text/plain": [
       "True"
      ]
     },
     "metadata": {},
     "execution_count": 8
    }
   ],
   "source": [
    "db.rpg_models.update('item', 'Clava', up_column='class')"
   ]
  },
  {
   "cell_type": "code",
   "execution_count": 3,
   "metadata": {},
   "outputs": [
    {
     "output_type": "execute_result",
     "data": {
      "text/plain": [
       "True"
      ]
     },
     "metadata": {},
     "execution_count": 3
    }
   ],
   "source": [
    "db.rpg_models.update({'model_name': 'Master_Ars', 'autor': 'johnas'}, {'class': 'character_profile', 'rowid': 13})"
   ]
  },
  {
   "cell_type": "code",
   "execution_count": 4,
   "metadata": {},
   "outputs": [
    {
     "output_type": "execute_result",
     "data": {
      "text/plain": [
       "True"
      ]
     },
     "metadata": {},
     "execution_count": 4
    }
   ],
   "source": [
    "db.rpg_models.update('Dungeons_test3', 'model_name', 13, ref_column='rowid')"
   ]
  },
  {
   "cell_type": "code",
   "execution_count": 26,
   "metadata": {},
   "outputs": [
    {
     "output_type": "execute_result",
     "data": {
      "text/plain": [
       "True"
      ]
     },
     "metadata": {},
     "execution_count": 26
    }
   ],
   "source": [
    "db.rpg_models.update({'autor': 'pericles', 'model_name': 'Dungeons_teste3'}, {'rowid': 13})"
   ]
  },
  {
   "cell_type": "code",
   "execution_count": 38,
   "metadata": {},
   "outputs": [],
   "source": [
    "db.rpg_models.delete({'model_name': 'ADeD', 'class': 'character profile'})"
   ]
  },
  {
   "cell_type": "code",
   "execution_count": 25,
   "metadata": {},
   "outputs": [
    {
     "output_type": "execute_result",
     "data": {
      "text/plain": [
       "0"
      ]
     },
     "metadata": {},
     "execution_count": 25
    }
   ],
   "source": [
    "db.users()"
   ]
  },
  {
   "cell_type": "code",
   "execution_count": 3,
   "metadata": {},
   "outputs": [
    {
     "output_type": "execute_result",
     "data": {
      "text/plain": [
       "0"
      ]
     },
     "metadata": {},
     "execution_count": 3
    }
   ],
   "source": [
    "db.rpg_models()"
   ]
  },
  {
   "cell_type": "code",
   "execution_count": 27,
   "metadata": {},
   "outputs": [],
   "source": [
    "db.rpg_models.delete('morning star')\n",
    "db.rpg_models.delete('studded club')\n",
    "db.rpg_models.delete('big place')\n",
    "db.rpg_models.delete('big enemy')"
   ]
  },
  {
   "cell_type": "code",
   "execution_count": 24,
   "metadata": {},
   "outputs": [],
   "source": [
    "db.rpg_models.insert('morning star', 'dennis', 'item', '{}')\n",
    "db.rpg_models.insert('studded club', 'dennis', 'item', '{}')\n",
    "db.rpg_models.insert('big place', 'dennis', 'place', '{}')\n",
    "db.rpg_models.insert('big enemy', 'dennis', 'enemy', '{}')"
   ]
  },
  {
   "cell_type": "code",
   "execution_count": 4,
   "metadata": {},
   "outputs": [],
   "source": [
    "db.rpg_models.insert('goblin', 'dennis', 'enemy', '{}')\n",
    "db.rpg_models.insert('goblin', 'dennis', 'enemy', '{}')"
   ]
  },
  {
   "cell_type": "code",
   "execution_count": 10,
   "metadata": {},
   "outputs": [
    {
     "output_type": "execute_result",
     "data": {
      "text/plain": [
       "'model_name'"
      ]
     },
     "metadata": {},
     "execution_count": 10
    }
   ],
   "source": [
    "db.rpg_models.priority"
   ]
  },
  {
   "cell_type": "code",
   "execution_count": 4,
   "metadata": {},
   "outputs": [
    {
     "output_type": "stream",
     "name": "stdout",
     "text": [
      "(12,)\n"
     ]
    }
   ],
   "source": [
    "a = 12\n",
    "print((a,))"
   ]
  },
  {
   "cell_type": "code",
   "execution_count": null,
   "metadata": {},
   "outputs": [],
   "source": []
  }
 ]
}